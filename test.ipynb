{
 "cells": [
  {
   "cell_type": "code",
   "execution_count": 1,
   "metadata": {},
   "outputs": [],
   "source": [
    "import numpy as np\n",
    "import trimesh\n",
    "from pathlib import Path"
   ]
  },
  {
   "cell_type": "code",
   "execution_count": 2,
   "metadata": {},
   "outputs": [
    {
     "name": "stdout",
     "output_type": "stream",
     "text": [
      "[PosixPath('/Users/ishangaur/23-12-06-04-38-25/grasps/round_000_trial_000.obj'), PosixPath('/Users/ishangaur/23-12-06-04-38-25/grasps/round_000_trial_001.obj'), PosixPath('/Users/ishangaur/23-12-06-04-38-25/grasps/round_000_trial_002.obj')]\n"
     ]
    }
   ],
   "source": [
    "exp_folder = Path('/Users/ishangaur/23-12-06-04-38-25')\n",
    "grasps_folder = exp_folder / 'grasps'\n",
    "grasp_paths = [x for x in grasps_folder.iterdir() if x.suffix == \".obj\"]\n",
    "print(grasp_paths)"
   ]
  },
  {
   "cell_type": "code",
   "execution_count": 3,
   "metadata": {},
   "outputs": [
    {
     "data": {
      "text/plain": [
       "array([0.20791798, 0.22683908, 0.1091428 ])"
      ]
     },
     "execution_count": 3,
     "metadata": {},
     "output_type": "execute_result"
    }
   ],
   "source": [
    "grasp_path = grasp_paths[0]\n",
    "grasp_mesh = trimesh.load_mesh(grasp_path)\n",
    "grasp_mesh.bounding_box.extents"
   ]
  },
  {
   "cell_type": "code",
   "execution_count": 23,
   "metadata": {},
   "outputs": [],
   "source": [
    "# from simulation--the definition of the side view\n",
    "# origin = Transform(Rotation.identity(), np.r_[self.size / 2, self.size / 2, self.size / 3])\n",
    "# theta = np.pi / 3.0\n",
    "# r = 2.0 * self.size\n",
    "# phi_list = [- np.pi / 2.0]\n",
    "scene = trimesh.Scene()\n",
    "scene.add_geometry(grasp_mesh)\n",
    "size = grasp_mesh.bounding_box.extents[0]\n",
    "# angles are down, , in-axis rotation\n",
    "scene.set_camera(distance=2.0 * size, angles=[np.pi / 3, 0, 0])\n",
    "png = scene.save_image()"
   ]
  },
  {
   "cell_type": "code",
   "execution_count": null,
   "metadata": {},
   "outputs": [],
   "source": [
    "png = scene.save_image()\n",
    "with open(grasp_path.with_suffix('.png'), 'wb') as f:\n",
    "    f.write(png)"
   ]
  },
  {
   "cell_type": "code",
   "execution_count": null,
   "metadata": {},
   "outputs": [],
   "source": [
    "for grasp_path in grasps_folder.iterdir():\n",
    "    grasp_mesh = trimesh.load_mesh(grasp_path)\n",
    "    scene = trimesh.Scene()\n",
    "    scene.add_geometry(grasp_mesh)\n",
    "    png = scene.save_image()\n",
    "    with open(grasp_path.with_suffix('.png'), 'wb') as f:\n",
    "        f.write(png)"
   ]
  }
 ],
 "metadata": {
  "kernelspec": {
   "display_name": "aff-bench",
   "language": "python",
   "name": "python3"
  },
  "language_info": {
   "codemirror_mode": {
    "name": "ipython",
    "version": 3
   },
   "file_extension": ".py",
   "mimetype": "text/x-python",
   "name": "python",
   "nbconvert_exporter": "python",
   "pygments_lexer": "ipython3",
   "version": "3.10.8"
  }
 },
 "nbformat": 4,
 "nbformat_minor": 2
}
