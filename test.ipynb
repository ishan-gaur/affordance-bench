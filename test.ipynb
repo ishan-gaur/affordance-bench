{
 "cells": [
  {
   "cell_type": "code",
   "execution_count": 1,
   "metadata": {},
   "outputs": [],
   "source": [
    "import numpy as np\n",
    "import trimesh\n",
    "from pathlib import Path"
   ]
  },
  {
   "cell_type": "code",
   "execution_count": 6,
   "metadata": {},
   "outputs": [
    {
     "ename": "TypeError",
     "evalue": "object of type 'NoneType' has no len()",
     "output_type": "error",
     "traceback": [
      "\u001b[0;31m---------------------------------------------------------------------------\u001b[0m",
      "\u001b[0;31mTypeError\u001b[0m                                 Traceback (most recent call last)",
      "Cell \u001b[0;32mIn[6], line 1\u001b[0m\n\u001b[0;32m----> 1\u001b[0m \u001b[43mtrimesh\u001b[49m\u001b[38;5;241;43m.\u001b[39;49m\u001b[43mload_mesh\u001b[49m\u001b[43m(\u001b[49m\u001b[38;5;124;43m'\u001b[39;49m\u001b[38;5;124;43m/home/ishang/affordance-bench/pile_experiment/23-12-06-21-55-14/meshes/round_000_trial_000_aff.obj\u001b[39;49m\u001b[38;5;124;43m'\u001b[39;49m\u001b[43m)\u001b[49m\u001b[38;5;241m.\u001b[39mshow()\n",
      "File \u001b[0;32m~/miniconda3/envs/giga/lib/python3.8/site-packages/trimesh/exchange/load.py:191\u001b[0m, in \u001b[0;36mload_mesh\u001b[0;34m(file_obj, file_type, resolver, **kwargs)\u001b[0m\n\u001b[1;32m    189\u001b[0m loader \u001b[38;5;241m=\u001b[39m mesh_loaders[file_type]\n\u001b[1;32m    190\u001b[0m tic \u001b[38;5;241m=\u001b[39m now()\n\u001b[0;32m--> 191\u001b[0m results \u001b[38;5;241m=\u001b[39m \u001b[43mloader\u001b[49m\u001b[43m(\u001b[49m\u001b[43mfile_obj\u001b[49m\u001b[43m,\u001b[49m\u001b[43m \u001b[49m\u001b[43mfile_type\u001b[49m\u001b[38;5;241;43m=\u001b[39;49m\u001b[43mfile_type\u001b[49m\u001b[43m,\u001b[49m\u001b[43m \u001b[49m\u001b[43mresolver\u001b[49m\u001b[38;5;241;43m=\u001b[39;49m\u001b[43mresolver\u001b[49m\u001b[43m,\u001b[49m\u001b[43m \u001b[49m\u001b[38;5;241;43m*\u001b[39;49m\u001b[38;5;241;43m*\u001b[39;49m\u001b[43mkwargs\u001b[49m\u001b[43m)\u001b[49m\n\u001b[1;32m    192\u001b[0m \u001b[38;5;28;01mif\u001b[39;00m \u001b[38;5;129;01mnot\u001b[39;00m \u001b[38;5;28misinstance\u001b[39m(results, \u001b[38;5;28mlist\u001b[39m):\n\u001b[1;32m    193\u001b[0m     results \u001b[38;5;241m=\u001b[39m [results]\n",
      "File \u001b[0;32m~/miniconda3/envs/giga/lib/python3.8/site-packages/trimesh/exchange/obj.py:223\u001b[0m, in \u001b[0;36mload_obj\u001b[0;34m(file_obj, resolver, group_material, skip_materials, maintain_order, **kwargs)\u001b[0m\n\u001b[1;32m    217\u001b[0m     new_faces, mask_v, mask_vn \u001b[38;5;241m=\u001b[39m unmerge_faces(\n\u001b[1;32m    218\u001b[0m         faces, faces_norm, maintain_faces\u001b[38;5;241m=\u001b[39mmaintain_order\n\u001b[1;32m    219\u001b[0m     )\n\u001b[1;32m    220\u001b[0m \u001b[38;5;28;01melse\u001b[39;00m:\n\u001b[1;32m    221\u001b[0m     \u001b[38;5;66;03m# generate the mask so we only include\u001b[39;00m\n\u001b[1;32m    222\u001b[0m     \u001b[38;5;66;03m# referenced vertices in every new mesh\u001b[39;00m\n\u001b[0;32m--> 223\u001b[0m     mask_v \u001b[38;5;241m=\u001b[39m np\u001b[38;5;241m.\u001b[39mzeros(\u001b[38;5;28;43mlen\u001b[39;49m\u001b[43m(\u001b[49m\u001b[43mv\u001b[49m\u001b[43m)\u001b[49m, dtype\u001b[38;5;241m=\u001b[39m\u001b[38;5;28mbool\u001b[39m)\n\u001b[1;32m    224\u001b[0m     mask_v[faces] \u001b[38;5;241m=\u001b[39m \u001b[38;5;28;01mTrue\u001b[39;00m\n\u001b[1;32m    226\u001b[0m     \u001b[38;5;66;03m# reconstruct the faces with the new vertex indices\u001b[39;00m\n",
      "\u001b[0;31mTypeError\u001b[0m: object of type 'NoneType' has no len()"
     ]
    }
   ],
   "source": [
    "trimesh.load_mesh('/home/ishang/affordance-bench/pile_experiment/23-12-06-21-55-14/meshes/round_000_trial_000_aff.obj').show()"
   ]
  },
  {
   "cell_type": "code",
   "execution_count": null,
   "metadata": {},
   "outputs": [
    {
     "ename": "",
     "evalue": "",
     "output_type": "error",
     "traceback": [
      "\u001b[1;31mThe kernel failed to start due to the missing module 'typing_extensions'. Consider installing this module.\n",
      "\u001b[1;31mClick <a href='https://aka.ms/kernelFailuresMissingModule'>here</a> for more info."
     ]
    }
   ],
   "source": [
    "exp_folder = Path('/Users/ishangaur/23-12-06-04-38-25')\n",
    "grasps_folder = exp_folder / 'grasps'\n",
    "grasp_paths = [x for x in grasps_folder.iterdir() if x.suffix == \".obj\"]\n",
    "print(grasp_paths)"
   ]
  },
  {
   "cell_type": "code",
   "execution_count": null,
   "metadata": {},
   "outputs": [
    {
     "ename": "",
     "evalue": "",
     "output_type": "error",
     "traceback": [
      "\u001b[1;31mThe kernel failed to start due to the missing module 'typing_extensions'. Consider installing this module.\n",
      "\u001b[1;31mClick <a href='https://aka.ms/kernelFailuresMissingModule'>here</a> for more info."
     ]
    }
   ],
   "source": [
    "grasp_path = grasp_paths[0]\n",
    "grasp_mesh = trimesh.load_mesh(grasp_path)\n",
    "grasp_mesh.bounding_box.extents"
   ]
  },
  {
   "cell_type": "code",
   "execution_count": null,
   "metadata": {},
   "outputs": [
    {
     "ename": "",
     "evalue": "",
     "output_type": "error",
     "traceback": [
      "\u001b[1;31mThe kernel failed to start due to the missing module 'typing_extensions'. Consider installing this module.\n",
      "\u001b[1;31mClick <a href='https://aka.ms/kernelFailuresMissingModule'>here</a> for more info."
     ]
    }
   ],
   "source": [
    "# from simulation--the definition of the side view\n",
    "# origin = Transform(Rotation.identity(), np.r_[self.size / 2, self.size / 2, self.size / 3])\n",
    "# theta = np.pi / 3.0\n",
    "# r = 2.0 * self.size\n",
    "# phi_list = [- np.pi / 2.0]\n",
    "scene = trimesh.Scene()\n",
    "scene.add_geometry(grasp_mesh)\n",
    "size = grasp_mesh.bounding_box.extents[0]\n",
    "# angles are down, , in-axis rotation\n",
    "scene.set_camera(distance=2.0 * size, angles=[np.pi / 3, 0, 0])\n",
    "png = scene.save_image()"
   ]
  },
  {
   "cell_type": "code",
   "execution_count": null,
   "metadata": {},
   "outputs": [
    {
     "ename": "",
     "evalue": "",
     "output_type": "error",
     "traceback": [
      "\u001b[1;31mThe kernel failed to start due to the missing module 'typing_extensions'. Consider installing this module.\n",
      "\u001b[1;31mClick <a href='https://aka.ms/kernelFailuresMissingModule'>here</a> for more info."
     ]
    }
   ],
   "source": [
    "png = scene.save_image()\n",
    "with open(grasp_path.with_suffix('.png'), 'wb') as f:\n",
    "    f.write(png)"
   ]
  },
  {
   "cell_type": "code",
   "execution_count": null,
   "metadata": {},
   "outputs": [
    {
     "ename": "",
     "evalue": "",
     "output_type": "error",
     "traceback": [
      "\u001b[1;31mThe kernel failed to start due to the missing module 'typing_extensions'. Consider installing this module.\n",
      "\u001b[1;31mClick <a href='https://aka.ms/kernelFailuresMissingModule'>here</a> for more info."
     ]
    }
   ],
   "source": [
    "for grasp_path in grasps_folder.iterdir():\n",
    "    grasp_mesh = trimesh.load_mesh(grasp_path)\n",
    "    scene = trimesh.Scene()\n",
    "    scene.add_geometry(grasp_mesh)\n",
    "    png = scene.save_image()\n",
    "    with open(grasp_path.with_suffix('.png'), 'wb') as f:\n",
    "        f.write(png)"
   ]
  }
 ],
 "metadata": {
  "kernelspec": {
   "display_name": "aff-bench",
   "language": "python",
   "name": "python3"
  },
  "language_info": {
   "codemirror_mode": {
    "name": "ipython",
    "version": 3
   },
   "file_extension": ".py",
   "mimetype": "text/x-python",
   "name": "python",
   "nbconvert_exporter": "python",
   "pygments_lexer": "ipython3",
   "version": "3.8.18"
  }
 },
 "nbformat": 4,
 "nbformat_minor": 2
}
